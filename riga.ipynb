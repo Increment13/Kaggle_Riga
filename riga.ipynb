{
 "cells": [
  {
   "cell_type": "markdown",
   "id": "3552501f-074e-4ec2-ae1f-e77fa66562b4",
   "metadata": {},
   "source": [
    "## About Dataset"
   ]
  },
  {
   "cell_type": "markdown",
   "id": "562d3421-8805-447a-9f49-4016f0340002",
   "metadata": {},
   "source": [
    "Content\n",
    "The dataset contains 6 files estate objects in Riga, and additional data with ptice and location estate.\n",
    "\n",
    "Columns description files <b>Riga_</b>:\n",
    "- district - district, where real estate object located.\n",
    "- street - address of real estate object.\n",
    "- rooms - number of rooms.\n",
    "- area - living area of real estate object.\n",
    "- floor - floor of rel estate object.\n",
    "- total_floors - total amount of floors in building.\n",
    "- house_seria - house design ('LT proj.', '602.', 'P. kara', 'Jaun.', 'Specpr.', 'Hrušč.', '119.', 'M. ģim.', 'Renov.', '103.', nan, 'Priv. m.', '467.', 'Staļina', '104.', 'Čehu pr.').\n",
    "- house_type - type of building ('Brick-Panel', 'Panel', 'Wood', 'Masonry', 'Brick', 'Panel-Brick').\n",
    "- condition - stuffing premises ('All amenities', 'Partial amenities', 'Without amenities').\n",
    "- id - identificator \n",
    "\n",
    "Columns description files <b>Price</b>:\n",
    "- price - price in EUR.\n",
    "\n",
    "Columns description files <b>Location</b>:\n",
    "- lat / lon - latitude and longitude of real estate object."
   ]
  },
  {
   "cell_type": "markdown",
   "id": "205225e8-b56d-4353-bb5d-30826d047584",
   "metadata": {},
   "source": [
    "## Main goals"
   ]
  },
  {
   "cell_type": "markdown",
   "id": "1db85b5a-39b7-4f63-a4df-8009187d7874",
   "metadata": {},
   "source": [
    "<b>Exploring general information about the data</b>\n",
    "- include required libraries\n",
    "- load data into dataframes\n",
    "- look at the data and draw conclusions\n",
    "\n",
    "<b>Data preparation</b>\n",
    " - look at the number of empty values (is it possible to replace them)\n",
    " - check for duplicates\n",
    " - the presence of incorrect data (outliers)\n",
    " \n",
    "<b>Exploratory data analysis</b>\n",
    " - what is the average price of housing in riga\n",
    " - how much the price differs from the number of rooms\n",
    " - area dependence\n",
    " - location dependency\n",
    " *To calculate the distance between two points, use the formula*\n",
    " $$ \\sqrt{(x_2^2 - x_1^2) + (y_2^2 - y_1^2)} $$\n",
    " - try to aggregate the data as much as possible, combine into groups\n",
    " - in which district is it easier to find an apartment (purchase / rent). Here it would be more accurate to say in which of the district there will be the largest variation in prices\n",
    " \n",
    "*try to visualize the data as much as possible*\n",
    " \n",
    "<b>Factor analysis</b>\n",
    " - highlight the main criteria that affect the price\n",
    "\n",
    "<b>Testing statistical hypotheses</b>\n",
    " - changes in the price of housing are affected by floors up to the 10th, after the impact is not\n",
    " - in district Maskavas priekšpilsēta and Iļģuciemsthe same price for real estate"
   ]
  },
  {
   "cell_type": "markdown",
   "id": "bf1686b0-df1a-4383-a8b2-7afd67a9c106",
   "metadata": {},
   "source": [
    "*while completing the task, try to complete all the items from the list.*"
   ]
  },
  {
   "cell_type": "code",
   "execution_count": null,
   "id": "b038cbad-4f43-45f3-b405-b28a5f957cbc",
   "metadata": {},
   "outputs": [],
   "source": []
  }
 ],
 "metadata": {
  "kernelspec": {
   "display_name": "Python 3 (ipykernel)",
   "language": "python",
   "name": "python3"
  },
  "language_info": {
   "codemirror_mode": {
    "name": "ipython",
    "version": 3
   },
   "file_extension": ".py",
   "mimetype": "text/x-python",
   "name": "python",
   "nbconvert_exporter": "python",
   "pygments_lexer": "ipython3",
   "version": "3.10.9"
  }
 },
 "nbformat": 4,
 "nbformat_minor": 5
}

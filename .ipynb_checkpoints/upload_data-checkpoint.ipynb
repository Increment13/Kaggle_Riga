{
 "cells": [
  {
   "cell_type": "code",
   "execution_count": 5,
   "id": "32ae19fc-fb82-4cbc-a081-d3f085ac6b62",
   "metadata": {},
   "outputs": [],
   "source": [
    "%run get_data_sslv"
   ]
  },
  {
   "cell_type": "code",
   "execution_count": 6,
   "id": "18da4318-3d8b-4aab-ad3b-2c80bf847926",
   "metadata": {},
   "outputs": [],
   "source": [
    "URL_TEMPLATE = \"https://ss.lv/ru/real-estate/flats/riga/all/hand_over\"\n",
    "max_pages = 51"
   ]
  },
  {
   "cell_type": "code",
   "execution_count": null,
   "id": "005ba356-4ce9-4e98-b1dc-a291c1a7a65c",
   "metadata": {},
   "outputs": [
    {
     "name": "stdout",
     "output_type": "stream",
     "text": [
      "get pages link\n"
     ]
    },
    {
     "data": {
      "application/vnd.jupyter.widget-view+json": {
       "model_id": "b45422f60b6944feb5de5170492d0b17",
       "version_major": 2,
       "version_minor": 0
      },
      "text/plain": [
       "  0%|          | 0/51 [00:00<?, ?it/s]"
      ]
     },
     "metadata": {},
     "output_type": "display_data"
    },
    {
     "name": "stdout",
     "output_type": "stream",
     "text": [
      "get data from pages\n"
     ]
    },
    {
     "data": {
      "application/vnd.jupyter.widget-view+json": {
       "model_id": "5bf25becc279491b85c37b3e48a27491",
       "version_major": 2,
       "version_minor": 0
      },
      "text/plain": [
       "  0%|          | 0/1521 [00:00<?, ?it/s]"
      ]
     },
     "metadata": {},
     "output_type": "display_data"
    }
   ],
   "source": [
    "df = get_df_from_req(URL_TEMPLATE, max_pages)"
   ]
  },
  {
   "cell_type": "code",
   "execution_count": null,
   "id": "7b52a06d-c749-4423-9a12-5668aa622014",
   "metadata": {},
   "outputs": [],
   "source": [
    "df = update_street(df)\n",
    "df = update_floor(df)\n",
    "df = update_map_cord(df)\n",
    "df = update_area(df)\n",
    "df = update_price(df)\n",
    "df = update_facilities(df)\n",
    "df = update_rooms(df)\n",
    "df = update_wifi(df)\n",
    "df = update_data_types(df)"
   ]
  },
  {
   "cell_type": "code",
   "execution_count": null,
   "id": "e8ba7d57-4058-4a1c-9643-b25ab4581a75",
   "metadata": {},
   "outputs": [],
   "source": [
    "out_df(df,'./load_data/)"
   ]
  }
 ],
 "metadata": {
  "kernelspec": {
   "display_name": "Python 3 (ipykernel)",
   "language": "python",
   "name": "python3"
  },
  "language_info": {
   "codemirror_mode": {
    "name": "ipython",
    "version": 3
   },
   "file_extension": ".py",
   "mimetype": "text/x-python",
   "name": "python",
   "nbconvert_exporter": "python",
   "pygments_lexer": "ipython3",
   "version": "3.10.9"
  }
 },
 "nbformat": 4,
 "nbformat_minor": 5
}
